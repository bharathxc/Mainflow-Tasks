{
 "cells": [
  {
   "cell_type": "code",
   "execution_count": null,
   "metadata": {},
   "outputs": [],
   "source": [
    "import pandas as pd\n",
    "import numpy as np\n",
    "import matplotlib.pyplot as plt\n",
    "import seaborn as sns"
   ]
  },
  {
   "cell_type": "code",
   "execution_count": null,
   "metadata": {},
   "outputs": [],
   "source": [
    "# Load the dataset\n",
    "df_sales = pd.read_csv(r\"C:\\Users\\bhara\\Documents\\Main flow internship\\Task 2\\sales_data.csv\",encoding=\"ISO-8859-1\")"
   ]
  },
  {
   "cell_type": "code",
   "execution_count": null,
   "metadata": {},
   "outputs": [
    {
     "data": {
      "text/plain": [
       "<class 'pandas.core.frame.DataFrame'>\n",
       "RangeIndex: 113036 entries, 0 to 113035\n",
       "Data columns (total 18 columns):\n",
       " #   Column            Non-Null Count   Dtype \n",
       "---  ------            --------------   ----- \n",
       " 0   Date              113036 non-null  object\n",
       " 1   Day               113036 non-null  int64 \n",
       " 2   Month             113036 non-null  object\n",
       " 3   Year              113036 non-null  int64 \n",
       " 4   Customer_Age      113036 non-null  int64 \n",
       " 5   Age_Group         113036 non-null  object\n",
       " 6   Customer_Gender   113036 non-null  object\n",
       " 7   Country           113036 non-null  object\n",
       " 8   State             113036 non-null  object\n",
       " 9   Product_Category  113036 non-null  object\n",
       " 10  Sub_Category      113036 non-null  object\n",
       " 11  Product           113036 non-null  object\n",
       " 12  Order_Quantity    113036 non-null  int64 \n",
       " 13  Unit_Cost         113036 non-null  int64 \n",
       " 14  Unit_Price        113036 non-null  int64 \n",
       " 15  Profit            113036 non-null  int64 \n",
       " 16  Cost              113036 non-null  int64 \n",
       " 17  Revenue           113036 non-null  int64 \n",
       "dtypes: int64(9), object(9)\n",
       "memory usage: 15.5+ MB\n",
       "(None,          Date  Day     Month  Year  ...  Unit_Price Profit  Cost Revenue\n",
       "0  2013-11-26   26  November  2013  ...         120    590   360     950\n",
       "1  2015-11-26   26  November  2015  ...         120    590   360     950\n",
       "2  2014-03-23   23     March  2014  ...         120   1366  1035    2401\n",
       "3  2016-03-23   23     March  2016  ...         120   1188   900    2088\n",
       "4  2014-05-15   15       May  2014  ...         120    238   180     418\n",
       "\n",
       "[5 rows x 18 columns])\n"
      ]
     },
     "metadata": {},
     "output_type": "display_data"
    }
   ],
   "source": [
    "df_sales.info(), df_sales.head()"
   ]
  },
  {
   "cell_type": "code",
   "execution_count": null,
   "metadata": {},
   "outputs": [],
   "source": [
    "# Step 1: Data Cleaning\n",
    "\n",
    "# Convert 'Date' to datetime format\n",
    "df_sales['Date'] = pd.to_datetime(df_sales['Date'], errors='coerce')\n",
    "\n",
    "# Check for duplicates and remove them\n",
    "df_sales = df_sales.drop_duplicates()\n",
    "\n",
    "# Check missing values after cleaning\n",
    "cleaned_missing_values = df_sales.isnull().sum()\n",
    "\n",
    "# Display the number of rows before and after cleaning\n",
    "original_rows = 113036  # Original dataset size\n",
    "cleaned_rows = df_sales.shape[0]\n",
    "\n",
    "original_rows, cleaned_rows, cleaned_missing_values\n"
   ]
  },
  {
   "cell_type": "code",
   "execution_count": null,
   "metadata": {},
   "outputs": [
    {
     "data": {
      "text/plain": [
       "(113036, 112036, Date                0\n",
       "Day                 0\n",
       "Month               0\n",
       "Year                0\n",
       "Customer_Age        0\n",
       "Age_Group           0\n",
       "Customer_Gender     0\n",
       "Country             0\n",
       "State               0\n",
       "Product_Category    0\n",
       "Sub_Category        0\n",
       "Product             0\n",
       "Order_Quantity      0\n",
       "Unit_Cost           0\n",
       "Unit_Price          0\n",
       "Profit              0\n",
       "Cost                0\n",
       "Revenue             0\n",
       "dtype: int64)\n"
      ]
     },
     "metadata": {},
     "output_type": "display_data"
    }
   ],
   "source": [
    "original_rows, cleaned_rows, cleaned_missing_values"
   ]
  },
  {
   "cell_type": "code",
   "execution_count": null,
   "metadata": {},
   "outputs": [],
   "source": [
    "# Step 2: Time-Series Analysis - Sales Trends Over Time\n",
    "\n",
    "# Aggregate sales by date\n",
    "sales_trend = df_sales.groupby('Date')['Revenue'].sum()\n",
    "\n",
    "# Plot the sales trend\n",
    "plt.figure(figsize=(12, 6))\n",
    "plt.plot(sales_trend, marker='o', linestyle='-', alpha=0.7)\n",
    "plt.title(\"Sales Trend Over Time\")\n",
    "plt.xlabel(\"Date\")\n",
    "plt.ylabel(\"Total Revenue\")\n",
    "plt.grid(True)\n",
    "plt.show()\n"
   ]
  },
  {
   "cell_type": "code",
   "execution_count": null,
   "metadata": {},
   "outputs": [],
   "source": [
    "# Step 3: Profit vs. Revenue Analysis\n",
    "\n",
    "# Scatter plot of Profit vs. Revenue\n",
    "plt.figure(figsize=(8, 6))\n",
    "plt.scatter(df_sales['Revenue'], df_sales['Profit'], alpha=0.5)\n",
    "plt.title(\"Profit vs. Revenue\")\n",
    "plt.xlabel(\"Revenue\")\n",
    "plt.ylabel(\"Profit\")\n",
    "plt.grid(True)\n",
    "plt.show()\n"
   ]
  },
  {
   "cell_type": "code",
   "execution_count": null,
   "metadata": {},
   "outputs": [],
   "source": [
    "# Step 4: Sales Performance by Region and Product Category\n",
    "\n",
    "# Aggregate revenue by country\n",
    "sales_by_country = df_sales.groupby(\"Country\")[\"Revenue\"].sum().sort_values(ascending=False)\n",
    "\n",
    "# Aggregate revenue by product category\n",
    "sales_by_category = df_sales.groupby(\"Product_Category\")[\"Revenue\"].sum().sort_values(ascending=False)\n",
    "\n",
    "# Plot sales by country\n",
    "plt.figure(figsize=(10, 5))\n",
    "sales_by_country.head(10).plot(kind='bar', color='skyblue', edgecolor='black')\n",
    "plt.title(\"Top 10 Countries by Sales Revenue\")\n",
    "plt.xlabel(\"Country\")\n",
    "plt.ylabel(\"Total Revenue\")\n",
    "plt.xticks(rotation=45)\n",
    "plt.grid(axis='y', linestyle='--', alpha=0.7)\n",
    "plt.show()\n",
    "\n",
    "# Plot sales by product category\n",
    "plt.figure(figsize=(8, 5))\n",
    "sales_by_category.plot(kind='bar', color='lightcoral', edgecolor='black')\n",
    "plt.title(\"Sales by Product Category\")\n",
    "plt.xlabel(\"Product Category\")\n",
    "plt.ylabel(\"Total Revenue\")\n",
    "plt.xticks(rotation=45)\n",
    "plt.grid(axis='y', linestyle='--', alpha=0.7)\n",
    "plt.show()\n"
   ]
  },
  {
   "cell_type": "code",
   "execution_count": null,
   "metadata": {},
   "outputs": [],
   "source": [
    "from sklearn.model_selection import train_test_split\n",
    "from sklearn.linear_model import LinearRegression\n",
    "from sklearn.metrics import r2_score, mean_squared_error\n",
    "\n",
    "# Step 5: Predictive Modeling - Linear Regression for Sales Prediction\n",
    "\n",
    "# Select relevant features and target variable\n",
    "X = df_sales[['Profit', 'Cost']]\n",
    "y = df_sales['Revenue']\n",
    "\n",
    "# Split data into training and testing sets (80% train, 20% test)\n",
    "X_train, X_test, y_train, y_test = train_test_split(X, y, test_size=0.2, random_state=42)\n",
    "\n",
    "# Train Linear Regression model\n",
    "model = LinearRegression()\n",
    "model.fit(X_train, y_train)\n",
    "\n",
    "# Make predictions\n",
    "y_pred = model.predict(X_test)\n",
    "\n",
    "# Evaluate model performance\n",
    "r2 = r2_score(y_test, y_pred)\n",
    "mse = mean_squared_error(y_test, y_pred)\n",
    "\n",
    "r2, mse\n"
   ]
  },
  {
   "cell_type": "code",
   "execution_count": null,
   "metadata": {},
   "outputs": [],
   "source": []
  }
 ],
 "metadata": {
  "language_info": {
   "name": "python"
  }
 },
 "nbformat": 4,
 "nbformat_minor": 2
}
