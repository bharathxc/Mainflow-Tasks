{
 "cells": [
  {
   "cell_type": "code",
   "execution_count": 9,
   "metadata": {},
   "outputs": [],
   "source": [
    "from sklearn.feature_extraction.text import TfidfVectorizer\n",
    "import pandas as pd\n",
    "import re\n",
    "from sklearn.linear_model import LogisticRegression\n",
    "from sklearn.model_selection import train_test_split\n",
    "from sklearn.metrics import accuracy_score, classification_report, confusion_matrix\n",
    "import matplotlib.pyplot as plt\n",
    "import seaborn as sns\n",
    "\n"
   ]
  },
  {
   "cell_type": "code",
   "execution_count": null,
   "metadata": {},
   "outputs": [
    {
     "name": "stdout",
     "output_type": "stream",
     "text": [
      "<class 'pandas.core.frame.DataFrame'>\n",
      "RangeIndex: 4321 entries, 0 to 4320\n",
      "Data columns (total 2 columns):\n",
      " #   Column  Non-Null Count  Dtype \n",
      "---  ------  --------------  ----- \n",
      " 0   review  4321 non-null   object\n",
      " 1   class   4321 non-null   int64 \n",
      "dtypes: int64(1), object(1)\n",
      "memory usage: 67.6+ KB\n"
     ]
    },
    {
     "data": {
      "text/plain": [
       "(None,\n",
       "                                               review  class\n",
       " 0  Fantastic spot for an even or a quite cocktail...      1\n",
       " 1  Love, love, love the calamari. It's so good an...      1\n",
       " 2  Love this place. Stiff martinis and cocktails,...      1\n",
       " 3  It's everything a great cocktail bar should be...      1\n",
       " 4  I came here before a pirates game, so it was a...      1,\n",
       " class\n",
       " 1    2989\n",
       " 0    1332\n",
       " Name: count, dtype: int64,\n",
       " review    0\n",
       " class     0\n",
       " dtype: int64,\n",
       " 173)"
      ]
     },
     "execution_count": 4,
     "metadata": {},
     "output_type": "execute_result"
    }
   ],
   "source": [
    "# Load the dataset\n",
    "file_path = r\"C:\\Users\\bhara\\Documents\\Main flow internship\\Task 5\\TestReviews.csv\"\n",
    "df = pd.read_csv(file_path)\n",
    "\n",
    "# Basic information about the dataset\n",
    "df_info = df.info()\n",
    "df_head = df.head()\n",
    "df_class_counts = df['class'].value_counts()\n",
    "df_nulls = df.isnull().sum()\n",
    "df_duplicates = df.duplicated().sum()\n",
    "\n",
    "(df_info, df_head, df_class_counts, df_nulls, df_duplicates)\n"
   ]
  },
  {
   "cell_type": "code",
   "execution_count": null,
   "metadata": {},
   "outputs": [
    {
     "data": {
      "text/plain": [
       "((4321, 5000), (4321,))"
      ]
     },
     "execution_count": 5,
     "metadata": {},
     "output_type": "execute_result"
    }
   ],
   "source": [
    "# Basic preprocessing function (lowercase, remove punctuation/numbers)\n",
    "def simple_cleaning(text):\n",
    "    text = text.lower()\n",
    "    text = re.sub(r'[^a-z\\s]', '', text)  # keep only letters and spaces\n",
    "    return text\n",
    "\n",
    "# Apply basic cleaning\n",
    "df['clean_review'] = df['review'].apply(simple_cleaning)\n",
    "\n",
    "# Initialize TF-IDF vectorizer with English stopwords\n",
    "vectorizer = TfidfVectorizer(stop_words='english', max_features=5000)\n",
    "X = vectorizer.fit_transform(df['clean_review'])\n",
    "\n",
    "# Target labels\n",
    "y = df['class']\n",
    "\n",
    "X.shape, y.shape\n"
   ]
  },
  {
   "cell_type": "code",
   "execution_count": 8,
   "metadata": {},
   "outputs": [
    {
     "data": {
      "text/plain": [
       "(0.9271676300578034,\n",
       " {'0': {'precision': 0.9719101123595506,\n",
       "   'recall': 0.7489177489177489,\n",
       "   'f1-score': 0.8459657701711492,\n",
       "   'support': 231.0},\n",
       "  '1': {'precision': 0.9155749636098981,\n",
       "   'recall': 0.9921135646687698,\n",
       "   'f1-score': 0.9523088569265707,\n",
       "   'support': 634.0},\n",
       "  'accuracy': 0.9271676300578034,\n",
       "  'macro avg': {'precision': 0.9437425379847244,\n",
       "   'recall': 0.8705156567932593,\n",
       "   'f1-score': 0.89913731354886,\n",
       "   'support': 865.0},\n",
       "  'weighted avg': {'precision': 0.930619379056337,\n",
       "   'recall': 0.9271676300578034,\n",
       "   'f1-score': 0.9239097204635622,\n",
       "   'support': 865.0}},\n",
       " array([[173,  58],\n",
       "        [  5, 629]], dtype=int64))"
      ]
     },
     "execution_count": 8,
     "metadata": {},
     "output_type": "execute_result"
    }
   ],
   "source": [
    "# Split the dataset (80% train, 20% test)\n",
    "X_train, X_test, y_train, y_test = train_test_split(X, y, test_size=0.2, random_state=42)\n",
    "\n",
    "# Train Logistic Regression model\n",
    "model = LogisticRegression(max_iter=1000)\n",
    "model.fit(X_train, y_train)\n",
    "\n",
    "# Predict on test set\n",
    "y_pred = model.predict(X_test)\n",
    "\n",
    "# Evaluate the model\n",
    "accuracy = accuracy_score(y_test, y_pred)\n",
    "report = classification_report(y_test, y_pred, output_dict=True)\n",
    "conf_matrix = confusion_matrix(y_test, y_pred)\n",
    "\n",
    "accuracy, report, conf_matrix\n"
   ]
  },
  {
   "cell_type": "code",
   "execution_count": 10,
   "metadata": {},
   "outputs": [
    {
     "data": {
      "image/png": "[encoded data removed]",
      "text/plain": [
       "<Figure size 600x500 with 2 Axes>"
      ]
     },
     "metadata": {},
     "output_type": "display_data"
    }
   ],
   "source": [
    "# Plot the confusion matrix\n",
    "plt.figure(figsize=(6, 5))\n",
    "sns.heatmap(conf_matrix, annot=True, fmt='d', cmap='Blues', xticklabels=[\"Negative\", \"Positive\"], yticklabels=[\"Negative\", \"Positive\"])\n",
    "plt.xlabel(\"Predicted Label\")\n",
    "plt.ylabel(\"True Label\")\n",
    "plt.title(\"Confusion Matrix - Sentiment Classification\")\n",
    "plt.tight_layout()\n",
    "plt.show()"
   ]
  },
  {
   "cell_type": "code",
   "execution_count": null,
   "metadata": {},
   "outputs": [],
   "source": []
  }
 ],
 "metadata": {
  "kernelspec": {
   "display_name": "base",
   "language": "python",
   "name": "python3"
  },
  "language_info": {
   "codemirror_mode": {
    "name": "ipython",
    "version": 3
   },
   "file_extension": ".py",
   "mimetype": "text/x-python",
   "name": "python",
   "nbconvert_exporter": "python",
   "pygments_lexer": "ipython3",
   "version": "3.12.7"
  }
 },
 "nbformat": 4,
 "nbformat_minor": 2
}
