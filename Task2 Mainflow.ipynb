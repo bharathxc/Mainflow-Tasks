{
 "cells": [
  {
   "cell_type": "code",
   "execution_count": null,
   "metadata": {},
   "outputs": [],
   "source": [
    "import pandas as pd\n",
    "import numpy as np\n",
    "import matplotlib.pyplot as plt\n",
    "import seaborn as sns"
   ]
  },
  {
   "cell_type": "code",
   "execution_count": null,
   "metadata": {},
   "outputs": [],
   "source": [
    "# Load the dataset\n",
    "df = pd.read_csv(r\"C:\\Users\\bhara\\Documents\\Global_Superstore2.csv\",encoding=\"ISO-8859-1\")"
   ]
  },
  {
   "cell_type": "code",
   "execution_count": null,
   "metadata": {},
   "outputs": [
    {
     "data": {
      "text/plain": [
       "   Row ID         Order ID  Order Date  ...    Profit Shipping Cost Order Priority\n",
       "0   32298   CA-2012-124891  31-07-2012  ...  762.1845        933.57       Critical\n",
       "1   26341    IN-2013-77878  05-02-2013  ... -288.7650        923.63       Critical\n",
       "2   25330    IN-2013-71249  17-10-2013  ...  919.9710        915.49         Medium\n",
       "3   13524  ES-2013-1579342  28-01-2013  ...  -96.5400        910.16         Medium\n",
       "4   47221     SG-2013-4320  05-11-2013  ...  311.5200        903.04       Critical\n",
       "\n",
       "[5 rows x 24 columns]\n"
      ]
     },
     "metadata": {},
     "output_type": "display_data"
    }
   ],
   "source": [
    "df.head()"
   ]
  },
  {
   "cell_type": "code",
   "execution_count": null,
   "metadata": {},
   "outputs": [
    {
     "data": {
      "text/plain": [
       "<class 'pandas.core.frame.DataFrame'>\n",
       "RangeIndex: 51290 entries, 0 to 51289\n",
       "Data columns (total 24 columns):\n",
       " #   Column          Non-Null Count  Dtype  \n",
       "---  ------          --------------  -----  \n",
       " 0   Row ID          51290 non-null  int64  \n",
       " 1   Order ID        51290 non-null  object \n",
       " 2   Order Date      51290 non-null  object \n",
       " 3   Ship Date       51290 non-null  object \n",
       " 4   Ship Mode       51290 non-null  object \n",
       " 5   Customer ID     51290 non-null  object \n",
       " 6   Customer Name   51290 non-null  object \n",
       " 7   Segment         51290 non-null  object \n",
       " 8   City            51290 non-null  object \n",
       " 9   State           51290 non-null  object \n",
       " 10  Country         51290 non-null  object \n",
       " 11  Postal Code     9994 non-null   float64\n",
       " 12  Market          51290 non-null  object \n",
       " 13  Region          51290 non-null  object \n",
       " 14  Product ID      51290 non-null  object \n",
       " 15  Category        51290 non-null  object \n",
       " 16  Sub-Category    51290 non-null  object \n",
       " 17  Product Name    51290 non-null  object \n",
       " 18  Sales           51290 non-null  float64\n",
       " 19  Quantity        51290 non-null  int64  \n",
       " 20  Discount        51290 non-null  float64\n",
       " 21  Profit          51290 non-null  float64\n",
       " 22  Shipping Cost   51290 non-null  float64\n",
       " 23  Order Priority  51290 non-null  object \n",
       "dtypes: float64(5), int64(2), object(17)\n",
       "memory usage: 9.4+ MB\n"
      ]
     },
     "metadata": {},
     "output_type": "display_data"
    }
   ],
   "source": [
    "df.info()"
   ]
  },
  {
   "cell_type": "code",
   "execution_count": null,
   "metadata": {},
   "outputs": [],
   "source": [
    "# Step 1: Handling Missing Values\n",
    "\n",
    "# Check missing values\n",
    "missing_values = df.isnull().sum()\n",
    "\n",
    "# Drop 'Postal Code' since it has too many missing values and may not be crucial\n",
    "df_cleaned = df.drop(columns=['Postal Code'])\n",
    "\n",
    "# Step 2: Removing Duplicates\n",
    "df_cleaned = df_cleaned.drop_duplicates()\n",
    "\n",
    "# Step 3: Convert Date Columns to Datetime Format\n",
    "df_cleaned['Order Date'] = pd.to_datetime(df_cleaned['Order Date'], errors='coerce', dayfirst=True)\n",
    "df_cleaned['Ship Date'] = pd.to_datetime(df_cleaned['Ship Date'], errors='coerce', dayfirst=True)\n",
    "\n",
    "# Check updated missing values after cleaning\n",
    "cleaned_missing_values = df_cleaned.isnull().sum()\n"
   ]
  },
  {
   "cell_type": "code",
   "execution_count": null,
   "metadata": {},
   "outputs": [
    {
     "data": {
      "text/plain": [
       "(Row ID                0\n",
       "Order ID              0\n",
       "Order Date            0\n",
       "Ship Date             0\n",
       "Ship Mode             0\n",
       "Customer ID           0\n",
       "Customer Name         0\n",
       "Segment               0\n",
       "City                  0\n",
       "State                 0\n",
       "Country               0\n",
       "Postal Code       41296\n",
       "Market                0\n",
       "Region                0\n",
       "Product ID            0\n",
       "Category              0\n",
       "Sub-Category          0\n",
       "Product Name          0\n",
       "Sales                 0\n",
       "Quantity              0\n",
       "Discount              0\n",
       "Profit                0\n",
       "Shipping Cost         0\n",
       "Order Priority        0\n",
       "dtype: int64, Row ID            0\n",
       "Order ID          0\n",
       "Order Date        0\n",
       "Ship Date         0\n",
       "Ship Mode         0\n",
       "Customer ID       0\n",
       "Customer Name     0\n",
       "Segment           0\n",
       "City              0\n",
       "State             0\n",
       "Country           0\n",
       "Market            0\n",
       "Region            0\n",
       "Product ID        0\n",
       "Category          0\n",
       "Sub-Category      0\n",
       "Product Name      0\n",
       "Sales             0\n",
       "Quantity          0\n",
       "Discount          0\n",
       "Profit            0\n",
       "Shipping Cost     0\n",
       "Order Priority    0\n",
       "dtype: int64)\n"
      ]
     },
     "metadata": {},
     "output_type": "display_data"
    }
   ],
   "source": [
    "# Display missing values before and after cleaning\n",
    "missing_values, cleaned_missing_values"
   ]
  },
  {
   "cell_type": "code",
   "execution_count": null,
   "metadata": {},
   "outputs": [],
   "source": [
    "# Step 4: Detect and Handle Outliers using IQR method\n",
    "numeric_columns = ['Sales', 'Profit', 'Discount', 'Shipping Cost', 'Quantity']\n",
    "\n",
    "# Function to remove outliers using IQR\n",
    "def remove_outliers_iqr(df, columns):\n",
    "    for col in columns:\n",
    "        Q1 = df[col].quantile(0.25)\n",
    "        Q3 = df[col].quantile(0.75)\n",
    "        IQR = Q3 - Q1\n",
    "        lower_bound = Q1 - 1.5 * IQR\n",
    "        upper_bound = Q3 + 1.5 * IQR\n",
    "        df = df[(df[col] >= lower_bound) & (df[col] <= upper_bound)]\n",
    "    return df\n",
    "\n",
    "# Apply IQR method to remove outliers\n",
    "df_no_outliers = remove_outliers_iqr(df_cleaned, numeric_columns)\n",
    "\n",
    "# Display the number of rows before and after outlier removal\n",
    "original_rows = df_cleaned.shape[0]\n",
    "cleaned_rows = df_no_outliers.shape[0]\n"
   ]
  },
  {
   "cell_type": "code",
   "execution_count": null,
   "metadata": {},
   "outputs": [
    {
     "data": {
      "text/plain": [
       "(51290, 30991)\n"
      ]
     },
     "metadata": {},
     "output_type": "display_data"
    }
   ],
   "source": [
    "original_rows, cleaned_rows"
   ]
  },
  {
   "cell_type": "code",
   "execution_count": null,
   "metadata": {},
   "outputs": [],
   "source": [
    "# Step 5: Statistical Analysis\n",
    "\n",
    "# Compute summary statistics\n",
    "summary_statistics = df_no_outliers[numeric_columns].describe()\n",
    "\n",
    "# Compute correlations between numerical variables\n",
    "correlation_matrix = df_no_outliers[numeric_columns].corr()"
   ]
  },
  {
   "cell_type": "code",
   "execution_count": null,
   "metadata": {},
   "outputs": [],
   "source": [
    "# Step 6: Data Visualization - Histograms for numerical features\n",
    "numeric_columns = ['Sales', 'Profit', 'Discount', 'Shipping Cost', 'Quantity']\n",
    "\n",
    "# Plot histograms for each numeric column\n",
    "for col in numeric_columns:\n",
    "    plt.figure(figsize=(8, 5))\n",
    "    plt.hist(df_no_outliers[col], bins=30, edgecolor='black', alpha=0.7)\n",
    "    plt.title(f'Distribution of {col}')\n",
    "    plt.xlabel(col)\n",
    "    plt.ylabel('Frequency')\n",
    "    plt.grid(axis='y', linestyle='--', alpha=0.7)\n",
    "    plt.show()\n"
   ]
  },
  {
   "cell_type": "code",
   "execution_count": null,
   "metadata": {},
   "outputs": [],
   "source": [
    "# Step 7: Boxplots for Outlier Detection\n",
    "\n",
    "# Plot boxplots for each numeric column\n",
    "for col in numeric_columns:\n",
    "    plt.figure(figsize=(8, 5))\n",
    "    plt.boxplot(df_no_outliers[col], vert=False, patch_artist=True)\n",
    "    plt.title(f'Boxplot of {col}')\n",
    "    plt.xlabel(col)\n",
    "    plt.grid(axis='x', linestyle='--', alpha=0.7)\n",
    "    plt.show()\n"
   ]
  },
  {
   "cell_type": "code",
   "execution_count": null,
   "metadata": {},
   "outputs": [],
   "source": [
    "# Step 8: Heatmap for Correlation Analysis\n",
    "plt.figure(figsize=(8, 6))\n",
    "sns.heatmap(correlation_matrix, annot=True, cmap=\"coolwarm\", fmt=\".2f\", linewidths=0.5)\n",
    "plt.title(\"Correlation Heatmap of Numerical Features\")\n",
    "plt.show()\n"
   ]
  },
  {
   "cell_type": "code",
   "execution_count": null,
   "metadata": {},
   "outputs": [],
   "source": []
  }
 ],
 "metadata": {
  "language_info": {
   "name": "python"
  }
 },
 "nbformat": 4,
 "nbformat_minor": 2
}
